{
 "cells": [
  {
   "cell_type": "markdown",
   "metadata": {},
   "source": [
    "# <center>Домашнее задание № 1 (демо).<br> Анализ данных по доходу населения UCI Adult</center>"
   ]
  },
  {
   "cell_type": "markdown",
   "metadata": {},
   "source": [
    "**У завданні пропонується за допомогою Pandas відповісти на декілька запитань за даними репозиторію UCI [Adult](https://archive.ics.uci.edu/ml/datasets/Adult) (качати дані не треба – вони вже є в репозиторії) .**"
   ]
  },
  {
   "cell_type": "markdown",
   "metadata": {},
   "source": [
    "Унікальні значення ознак (більше інформації за посиланням вище):\n",
    "- age: continuous.\n",
    "- workclass: Private, Self-emp-not-inc, Self-emp-inc, Federal-gov, Local-gov, State-gov, Without-pay, Never-worked.\n",
    "- fnlwgt: continuous.\n",
    "- education: Bachelors, Some-college, 11th, HS-grad, Prof-school, Assoc-acdm, Assoc-voc, 9th, 7th-8th, 12th, Masters, 1st-4th, 10th, Doctorate, 5th-6th, Preschool.\n",
    "- education-num: continuous.\n",
    "- marital-status: Married-civ-spouse, Divorced, Never-married, Separated, Widowed, Married-spouse-absent, Married-AF-spouse.\n",
    "- occupation: Tech-support, Craft-repair, Other-service, Sales, Exec-managerial, Prof-specialty, Handlers-cleaners, Machine-op-inspct, Adm-clerical, Farming-fishing, Transport-moving, Priv-house-serv, Protective-serv, Armed-Forces.\n",
    "- relationship: Wife, Own-child, Husband, Not-in-family, Other-relative, Unmarried.\n",
    "- race: White, Asian-Pac-Islander, Amer-Indian-Eskimo, Other, Black.\n",
    "- sex: Female, Male.\n",
    "- capital-gain: continuous.\n",
    "- capital-loss: continuous.\n",
    "- hours-per-week: continuous.\n",
    "- native-country: United-States, Cambodia, England, Puerto-Rico, Canada, Germany, Outlying-US(Guam-USVI-etc), India, Japan, Greece, South, China, Cuba, Iran, Honduras, Philippines, Italy, Poland, Jamaica, Vietnam, Mexico, Portugal, Ireland, France, Dominican-Republic, Laos, Ecuador, Taiwan, Haiti, Columbia, Hungary, Guatemala, Nicaragua, Scotland, Thailand, Yugoslavia, El-Salvador, Trinadad&Tobago, Peru, Hong, Holand-Netherlands.   \n",
    "- salary: >50K,<=50K"
   ]
  },
  {
   "cell_type": "code",
   "execution_count": 2,
   "metadata": {
    "ExecuteTime": {
     "end_time": "2023-06-19T10:39:37.441530Z",
     "start_time": "2023-06-19T10:39:37.096011Z"
    }
   },
   "outputs": [],
   "source": [
    "import pandas as pd"
   ]
  },
  {
   "cell_type": "code",
   "execution_count": 3,
   "metadata": {
    "ExecuteTime": {
     "end_time": "2023-06-19T10:39:37.479373Z",
     "start_time": "2023-06-19T10:39:37.442722Z"
    }
   },
   "outputs": [
    {
     "data": {
      "text/plain": "   age         workclass  fnlwgt  education  education-num  \\\n0   39         State-gov   77516  Bachelors             13   \n1   50  Self-emp-not-inc   83311  Bachelors             13   \n2   38           Private  215646    HS-grad              9   \n3   53           Private  234721       11th              7   \n4   28           Private  338409  Bachelors             13   \n\n       marital-status         occupation   relationship   race     sex  \\\n0       Never-married       Adm-clerical  Not-in-family  White    Male   \n1  Married-civ-spouse    Exec-managerial        Husband  White    Male   \n2            Divorced  Handlers-cleaners  Not-in-family  White    Male   \n3  Married-civ-spouse  Handlers-cleaners        Husband  Black    Male   \n4  Married-civ-spouse     Prof-specialty           Wife  Black  Female   \n\n   capital-gain  capital-loss  hours-per-week native-country salary  \n0          2174             0              40  United-States  <=50K  \n1             0             0              13  United-States  <=50K  \n2             0             0              40  United-States  <=50K  \n3             0             0              40  United-States  <=50K  \n4             0             0              40           Cuba  <=50K  ",
      "text/html": "<div>\n<style scoped>\n    .dataframe tbody tr th:only-of-type {\n        vertical-align: middle;\n    }\n\n    .dataframe tbody tr th {\n        vertical-align: top;\n    }\n\n    .dataframe thead th {\n        text-align: right;\n    }\n</style>\n<table border=\"1\" class=\"dataframe\">\n  <thead>\n    <tr style=\"text-align: right;\">\n      <th></th>\n      <th>age</th>\n      <th>workclass</th>\n      <th>fnlwgt</th>\n      <th>education</th>\n      <th>education-num</th>\n      <th>marital-status</th>\n      <th>occupation</th>\n      <th>relationship</th>\n      <th>race</th>\n      <th>sex</th>\n      <th>capital-gain</th>\n      <th>capital-loss</th>\n      <th>hours-per-week</th>\n      <th>native-country</th>\n      <th>salary</th>\n    </tr>\n  </thead>\n  <tbody>\n    <tr>\n      <th>0</th>\n      <td>39</td>\n      <td>State-gov</td>\n      <td>77516</td>\n      <td>Bachelors</td>\n      <td>13</td>\n      <td>Never-married</td>\n      <td>Adm-clerical</td>\n      <td>Not-in-family</td>\n      <td>White</td>\n      <td>Male</td>\n      <td>2174</td>\n      <td>0</td>\n      <td>40</td>\n      <td>United-States</td>\n      <td>&lt;=50K</td>\n    </tr>\n    <tr>\n      <th>1</th>\n      <td>50</td>\n      <td>Self-emp-not-inc</td>\n      <td>83311</td>\n      <td>Bachelors</td>\n      <td>13</td>\n      <td>Married-civ-spouse</td>\n      <td>Exec-managerial</td>\n      <td>Husband</td>\n      <td>White</td>\n      <td>Male</td>\n      <td>0</td>\n      <td>0</td>\n      <td>13</td>\n      <td>United-States</td>\n      <td>&lt;=50K</td>\n    </tr>\n    <tr>\n      <th>2</th>\n      <td>38</td>\n      <td>Private</td>\n      <td>215646</td>\n      <td>HS-grad</td>\n      <td>9</td>\n      <td>Divorced</td>\n      <td>Handlers-cleaners</td>\n      <td>Not-in-family</td>\n      <td>White</td>\n      <td>Male</td>\n      <td>0</td>\n      <td>0</td>\n      <td>40</td>\n      <td>United-States</td>\n      <td>&lt;=50K</td>\n    </tr>\n    <tr>\n      <th>3</th>\n      <td>53</td>\n      <td>Private</td>\n      <td>234721</td>\n      <td>11th</td>\n      <td>7</td>\n      <td>Married-civ-spouse</td>\n      <td>Handlers-cleaners</td>\n      <td>Husband</td>\n      <td>Black</td>\n      <td>Male</td>\n      <td>0</td>\n      <td>0</td>\n      <td>40</td>\n      <td>United-States</td>\n      <td>&lt;=50K</td>\n    </tr>\n    <tr>\n      <th>4</th>\n      <td>28</td>\n      <td>Private</td>\n      <td>338409</td>\n      <td>Bachelors</td>\n      <td>13</td>\n      <td>Married-civ-spouse</td>\n      <td>Prof-specialty</td>\n      <td>Wife</td>\n      <td>Black</td>\n      <td>Female</td>\n      <td>0</td>\n      <td>0</td>\n      <td>40</td>\n      <td>Cuba</td>\n      <td>&lt;=50K</td>\n    </tr>\n  </tbody>\n</table>\n</div>"
     },
     "execution_count": 3,
     "metadata": {},
     "output_type": "execute_result"
    }
   ],
   "source": [
    "data = pd.read_csv(\"datasets/adult_data.csv\")\n",
    "data.head()"
   ]
  },
  {
   "cell_type": "markdown",
   "metadata": {},
   "source": [
    "**1. Скільки чоловіків та жінок (ознака *sex*) представлено у цьому наборі даних?**"
   ]
  },
  {
   "cell_type": "code",
   "execution_count": 4,
   "metadata": {
    "collapsed": true,
    "ExecuteTime": {
     "end_time": "2023-06-19T10:39:37.564012Z",
     "start_time": "2023-06-19T10:39:37.551533Z"
    }
   },
   "outputs": [
    {
     "data": {
      "text/plain": "sex\nMale      21790\nFemale    10771\nName: count, dtype: int64"
     },
     "execution_count": 4,
     "metadata": {},
     "output_type": "execute_result"
    }
   ],
   "source": [
    "data.sex.value_counts()"
   ]
  },
  {
   "cell_type": "markdown",
   "metadata": {},
   "source": [
    "**2. Який середній вік (ознака *age*) жінок?**"
   ]
  },
  {
   "cell_type": "code",
   "execution_count": 5,
   "metadata": {
    "collapsed": true,
    "ExecuteTime": {
     "end_time": "2023-06-19T10:39:38.185754Z",
     "start_time": "2023-06-19T10:39:38.179886Z"
    }
   },
   "outputs": [
    {
     "data": {
      "text/plain": "37"
     },
     "execution_count": 5,
     "metadata": {},
     "output_type": "execute_result"
    }
   ],
   "source": [
    "int(round(data[data.sex == \"Female\"].age.mean(), 0))"
   ]
  },
  {
   "cell_type": "markdown",
   "metadata": {},
   "source": [
    "**3. Яка частка громадян Німеччини (ознака *native-country*)?**"
   ]
  },
  {
   "cell_type": "code",
   "execution_count": 6,
   "metadata": {
    "collapsed": true,
    "ExecuteTime": {
     "end_time": "2023-06-19T10:39:38.902483Z",
     "start_time": "2023-06-19T10:39:38.882200Z"
    }
   },
   "outputs": [
    {
     "data": {
      "text/plain": "0.00421"
     },
     "execution_count": 6,
     "metadata": {},
     "output_type": "execute_result"
    }
   ],
   "source": [
    "# Option 1\n",
    "\n",
    "round(data[\"native-country\"].value_counts(normalize=True)[\"Germany\"], 5)"
   ]
  },
  {
   "cell_type": "code",
   "execution_count": 7,
   "outputs": [
    {
     "data": {
      "text/plain": "0.00421"
     },
     "execution_count": 7,
     "metadata": {},
     "output_type": "execute_result"
    }
   ],
   "source": [
    "# Option 2\n",
    "\n",
    "round(data[data[\"native-country\"] == \"Germany\"].shape[0] / data.shape[0], 5)"
   ],
   "metadata": {
    "collapsed": false,
    "ExecuteTime": {
     "end_time": "2023-06-19T10:39:39.224903Z",
     "start_time": "2023-06-19T10:39:39.220293Z"
    }
   }
  },
  {
   "cell_type": "markdown",
   "metadata": {},
   "source": [
    "**4-5. Які середні значення та середньоквадратичні відхилення віку тих, хто отримує більше 50K на рік (ознака *salary*) та тих, хто отримує менше 50K на рік?**"
   ]
  },
  {
   "cell_type": "code",
   "execution_count": 8,
   "outputs": [
    {
     "data": {
      "text/plain": "             mean        std\nsalary                      \n<=50K   36.783738  14.020088\n>50K    44.249841  10.519028",
      "text/html": "<div>\n<style scoped>\n    .dataframe tbody tr th:only-of-type {\n        vertical-align: middle;\n    }\n\n    .dataframe tbody tr th {\n        vertical-align: top;\n    }\n\n    .dataframe thead th {\n        text-align: right;\n    }\n</style>\n<table border=\"1\" class=\"dataframe\">\n  <thead>\n    <tr style=\"text-align: right;\">\n      <th></th>\n      <th>mean</th>\n      <th>std</th>\n    </tr>\n    <tr>\n      <th>salary</th>\n      <th></th>\n      <th></th>\n    </tr>\n  </thead>\n  <tbody>\n    <tr>\n      <th>&lt;=50K</th>\n      <td>36.783738</td>\n      <td>14.020088</td>\n    </tr>\n    <tr>\n      <th>&gt;50K</th>\n      <td>44.249841</td>\n      <td>10.519028</td>\n    </tr>\n  </tbody>\n</table>\n</div>"
     },
     "execution_count": 8,
     "metadata": {},
     "output_type": "execute_result"
    }
   ],
   "source": [
    "data.groupby(\"salary\")[\"age\"].describe()[[\"mean\", \"std\"]]"
   ],
   "metadata": {
    "collapsed": false,
    "ExecuteTime": {
     "end_time": "2023-06-19T10:39:40.065452Z",
     "start_time": "2023-06-19T10:39:40.031872Z"
    }
   }
  },
  {
   "cell_type": "markdown",
   "metadata": {},
   "source": [
    "**6. Чи правда, що люди, які здобувають більше 50k, мають як мінімум вищу освіту? (ознака *education – Bachelors, Prof-school, Assoc-acdm, Assoc-voc, Masters* або *Doctorate*)**"
   ]
  },
  {
   "cell_type": "code",
   "execution_count": 9,
   "metadata": {
    "collapsed": true,
    "ExecuteTime": {
     "end_time": "2023-06-19T10:39:40.903623Z",
     "start_time": "2023-06-19T10:39:40.886037Z"
    }
   },
   "outputs": [
    {
     "data": {
      "text/plain": "False"
     },
     "execution_count": 9,
     "metadata": {},
     "output_type": "execute_result"
    }
   ],
   "source": [
    "high_educations = {\n",
    "    \"Bachelors\",\n",
    "    \"Prof-school\",\n",
    "    \"Assoc-acdm\",\n",
    "    \"Assoc-voc\",\n",
    "    \"Masters\",\n",
    "    \"Doctorate\",\n",
    "}\n",
    "rich_people_educations = data[data.salary == \">50K\"].education.unique()\n",
    "set(rich_people_educations).difference(high_educations) == 0"
   ]
  },
  {
   "cell_type": "markdown",
   "metadata": {},
   "source": [
    "**7. Виведіть статистику віку для кожної раси (ознака *race*) та кожної статі. Використовуйте *groupby* та *describe*. Знайдіть у такий спосіб максимальний вік чоловіків раси *Amer-Indian-Eskimo*.**"
   ]
  },
  {
   "cell_type": "code",
   "execution_count": 10,
   "metadata": {
    "collapsed": true,
    "ExecuteTime": {
     "end_time": "2023-06-19T10:39:42.017549Z",
     "start_time": "2023-06-19T10:39:41.997693Z"
    }
   },
   "outputs": [
    {
     "data": {
      "text/plain": "                             count       mean        std   min   25%   50%  \\\nrace               sex                                                       \nAmer-Indian-Eskimo Female    119.0  37.117647  13.114991  17.0  27.0  36.0   \n                   Male      192.0  37.208333  12.049563  17.0  28.0  35.0   \nAsian-Pac-Islander Female    346.0  35.089595  12.300845  17.0  25.0  33.0   \n                   Male      693.0  39.073593  12.883944  18.0  29.0  37.0   \nBlack              Female   1555.0  37.854019  12.637197  17.0  28.0  37.0   \n                   Male     1569.0  37.682600  12.882612  17.0  27.0  36.0   \nOther              Female    109.0  31.678899  11.631599  17.0  23.0  29.0   \n                   Male      162.0  34.654321  11.355531  17.0  26.0  32.0   \nWhite              Female   8642.0  36.811618  14.329093  17.0  25.0  35.0   \n                   Male    19174.0  39.652498  13.436029  17.0  29.0  38.0   \n\n                             75%   max  \nrace               sex                  \nAmer-Indian-Eskimo Female  46.00  80.0  \n                   Male    45.00  82.0  \nAsian-Pac-Islander Female  43.75  75.0  \n                   Male    46.00  90.0  \nBlack              Female  46.00  90.0  \n                   Male    46.00  90.0  \nOther              Female  39.00  74.0  \n                   Male    42.00  77.0  \nWhite              Female  46.00  90.0  \n                   Male    49.00  90.0  ",
      "text/html": "<div>\n<style scoped>\n    .dataframe tbody tr th:only-of-type {\n        vertical-align: middle;\n    }\n\n    .dataframe tbody tr th {\n        vertical-align: top;\n    }\n\n    .dataframe thead th {\n        text-align: right;\n    }\n</style>\n<table border=\"1\" class=\"dataframe\">\n  <thead>\n    <tr style=\"text-align: right;\">\n      <th></th>\n      <th></th>\n      <th>count</th>\n      <th>mean</th>\n      <th>std</th>\n      <th>min</th>\n      <th>25%</th>\n      <th>50%</th>\n      <th>75%</th>\n      <th>max</th>\n    </tr>\n    <tr>\n      <th>race</th>\n      <th>sex</th>\n      <th></th>\n      <th></th>\n      <th></th>\n      <th></th>\n      <th></th>\n      <th></th>\n      <th></th>\n      <th></th>\n    </tr>\n  </thead>\n  <tbody>\n    <tr>\n      <th rowspan=\"2\" valign=\"top\">Amer-Indian-Eskimo</th>\n      <th>Female</th>\n      <td>119.0</td>\n      <td>37.117647</td>\n      <td>13.114991</td>\n      <td>17.0</td>\n      <td>27.0</td>\n      <td>36.0</td>\n      <td>46.00</td>\n      <td>80.0</td>\n    </tr>\n    <tr>\n      <th>Male</th>\n      <td>192.0</td>\n      <td>37.208333</td>\n      <td>12.049563</td>\n      <td>17.0</td>\n      <td>28.0</td>\n      <td>35.0</td>\n      <td>45.00</td>\n      <td>82.0</td>\n    </tr>\n    <tr>\n      <th rowspan=\"2\" valign=\"top\">Asian-Pac-Islander</th>\n      <th>Female</th>\n      <td>346.0</td>\n      <td>35.089595</td>\n      <td>12.300845</td>\n      <td>17.0</td>\n      <td>25.0</td>\n      <td>33.0</td>\n      <td>43.75</td>\n      <td>75.0</td>\n    </tr>\n    <tr>\n      <th>Male</th>\n      <td>693.0</td>\n      <td>39.073593</td>\n      <td>12.883944</td>\n      <td>18.0</td>\n      <td>29.0</td>\n      <td>37.0</td>\n      <td>46.00</td>\n      <td>90.0</td>\n    </tr>\n    <tr>\n      <th rowspan=\"2\" valign=\"top\">Black</th>\n      <th>Female</th>\n      <td>1555.0</td>\n      <td>37.854019</td>\n      <td>12.637197</td>\n      <td>17.0</td>\n      <td>28.0</td>\n      <td>37.0</td>\n      <td>46.00</td>\n      <td>90.0</td>\n    </tr>\n    <tr>\n      <th>Male</th>\n      <td>1569.0</td>\n      <td>37.682600</td>\n      <td>12.882612</td>\n      <td>17.0</td>\n      <td>27.0</td>\n      <td>36.0</td>\n      <td>46.00</td>\n      <td>90.0</td>\n    </tr>\n    <tr>\n      <th rowspan=\"2\" valign=\"top\">Other</th>\n      <th>Female</th>\n      <td>109.0</td>\n      <td>31.678899</td>\n      <td>11.631599</td>\n      <td>17.0</td>\n      <td>23.0</td>\n      <td>29.0</td>\n      <td>39.00</td>\n      <td>74.0</td>\n    </tr>\n    <tr>\n      <th>Male</th>\n      <td>162.0</td>\n      <td>34.654321</td>\n      <td>11.355531</td>\n      <td>17.0</td>\n      <td>26.0</td>\n      <td>32.0</td>\n      <td>42.00</td>\n      <td>77.0</td>\n    </tr>\n    <tr>\n      <th rowspan=\"2\" valign=\"top\">White</th>\n      <th>Female</th>\n      <td>8642.0</td>\n      <td>36.811618</td>\n      <td>14.329093</td>\n      <td>17.0</td>\n      <td>25.0</td>\n      <td>35.0</td>\n      <td>46.00</td>\n      <td>90.0</td>\n    </tr>\n    <tr>\n      <th>Male</th>\n      <td>19174.0</td>\n      <td>39.652498</td>\n      <td>13.436029</td>\n      <td>17.0</td>\n      <td>29.0</td>\n      <td>38.0</td>\n      <td>49.00</td>\n      <td>90.0</td>\n    </tr>\n  </tbody>\n</table>\n</div>"
     },
     "execution_count": 10,
     "metadata": {},
     "output_type": "execute_result"
    }
   ],
   "source": [
    "race_age_stats = data.groupby([\"race\", \"sex\"])[\"age\"].describe()\n",
    "race_age_stats"
   ]
  },
  {
   "cell_type": "code",
   "execution_count": 11,
   "outputs": [
    {
     "data": {
      "text/plain": "82"
     },
     "execution_count": 11,
     "metadata": {},
     "output_type": "execute_result"
    }
   ],
   "source": [
    "int(race_age_stats.loc[(\"Amer-Indian-Eskimo\", \"Male\"), \"max\"])"
   ],
   "metadata": {
    "collapsed": false,
    "ExecuteTime": {
     "end_time": "2023-06-19T10:39:42.567764Z",
     "start_time": "2023-06-19T10:39:42.551063Z"
    }
   }
  },
  {
   "cell_type": "markdown",
   "metadata": {},
   "source": [
    "**8. Серед кого більша частка заробляючих багато (> 50K): серед одружених чи неодружених чоловіків (ознака *marital-status*)? Одруженими вважаємо тих, у кого *marital-status* починається з *Married* (Married-civ-spouse, Married-spouse-absent або Married-AF-spouse), решту вважаємо неодруженими.**"
   ]
  },
  {
   "cell_type": "code",
   "execution_count": 12,
   "outputs": [
    {
     "name": "stdout",
     "output_type": "stream",
     "text": [
      "Are married men richer in average? - True\n"
     ]
    }
   ],
   "source": [
    "data[\"is_married\"] = data[\"marital-status\"].str.startswith(\"Married\")\n",
    "grouped = data[data.sex == \"Male\"].groupby(\"is_married\")[\"salary\"].value_counts(normalize=True)\n",
    "\n",
    "print(f\"Are married men richer in average? - {grouped[:, '>50K'].idxmax()}\")"
   ],
   "metadata": {
    "collapsed": false,
    "ExecuteTime": {
     "end_time": "2023-06-19T10:39:43.565579Z",
     "start_time": "2023-06-19T10:39:43.558185Z"
    }
   }
  },
  {
   "cell_type": "markdown",
   "metadata": {},
   "source": [
    "**9. Яка максимальна кількість годин людина працює на тиждень (ознака *hours-per-week*)? Скільки людей працюють така кількість годин і який серед них відсоток заробляє багато?**"
   ]
  },
  {
   "cell_type": "code",
   "execution_count": 13,
   "metadata": {
    "collapsed": true,
    "ExecuteTime": {
     "end_time": "2023-06-19T10:39:44.730730Z",
     "start_time": "2023-06-19T10:39:44.728360Z"
    }
   },
   "outputs": [
    {
     "name": "stdout",
     "output_type": "stream",
     "text": [
      "Max hours per week: 99\n",
      "Number of workers with 99 hours per week: 85\n",
      "Percentage of rich people among them is 29%\n"
     ]
    }
   ],
   "source": [
    "max_hours_per_week = data[\"hours-per-week\"].max()\n",
    "print(f\"Max hours per week: {max_hours_per_week}\")\n",
    "\n",
    "max_hpw_workers = data[data[\"hours-per-week\"] == max_hours_per_week]\n",
    "print(f\"Number of workers with {max_hours_per_week} hours per week: {max_hpw_workers.shape[0]}\")\n",
    "\n",
    "print(\n",
    "    f\"Percentage of rich people among them is {int(round(max_hpw_workers.salary.value_counts(normalize=True)['>50K'] * 100, 0))}%\"\n",
    ")"
   ]
  },
  {
   "cell_type": "markdown",
   "metadata": {},
   "source": [
    "**10. Порахуйте середній час роботи (*hours-per-week*) заробляючих мало і багато (*salary*) для кожної країни (*native-country*).**"
   ]
  },
  {
   "cell_type": "code",
   "execution_count": 14,
   "metadata": {
    "collapsed": true,
    "ExecuteTime": {
     "end_time": "2023-06-19T10:39:47.064919Z",
     "start_time": "2023-06-19T10:39:47.057957Z"
    }
   },
   "outputs": [
    {
     "data": {
      "text/plain": "native-country  salary\n?               <=50K     40.164760\n                >50K      45.547945\nCambodia        <=50K     41.416667\n                >50K      40.000000\nCanada          <=50K     37.914634\n                            ...    \nUnited-States   >50K      45.505369\nVietnam         <=50K     37.193548\n                >50K      39.200000\nYugoslavia      <=50K     41.600000\n                >50K      49.500000\nName: hours-per-week, Length: 82, dtype: float64"
     },
     "execution_count": 14,
     "metadata": {},
     "output_type": "execute_result"
    }
   ],
   "source": [
    "data.groupby([\"native-country\", \"salary\"])[\"hours-per-week\"].mean()"
   ]
  },
  {
   "cell_type": "code",
   "execution_count": 15,
   "outputs": [
    {
     "name": "stdout",
     "output_type": "stream",
     "text": [
      "The most common profession for each level of education and sex:\n"
     ]
    },
    {
     "data": {
      "text/plain": "       education     sex most_common_occupation\n0           10th  Female          Other-service\n1           10th    Male           Craft-repair\n2           11th  Female          Other-service\n3           11th    Male           Craft-repair\n4           12th  Female          Other-service\n5           12th    Male           Craft-repair\n6        1st-4th  Female          Other-service\n7        1st-4th    Male           Craft-repair\n8        5th-6th  Female      Machine-op-inspct\n9        5th-6th    Male          Other-service\n10       7th-8th  Female          Other-service\n11       7th-8th    Male           Craft-repair\n12           9th  Female          Other-service\n13           9th    Male           Craft-repair\n14    Assoc-acdm  Female           Adm-clerical\n15    Assoc-acdm    Male           Craft-repair\n16     Assoc-voc  Female           Adm-clerical\n17     Assoc-voc    Male           Craft-repair\n18     Bachelors  Female         Prof-specialty\n19     Bachelors    Male        Exec-managerial\n20     Doctorate  Female         Prof-specialty\n21     Doctorate    Male         Prof-specialty\n22       HS-grad  Female           Adm-clerical\n23       HS-grad    Male           Craft-repair\n24       Masters  Female         Prof-specialty\n25       Masters    Male         Prof-specialty\n26     Preschool  Female          Other-service\n27     Preschool    Male        Farming-fishing\n28   Prof-school  Female         Prof-specialty\n29   Prof-school    Male         Prof-specialty\n30  Some-college  Female           Adm-clerical\n31  Some-college    Male           Craft-repair",
      "text/html": "<div>\n<style scoped>\n    .dataframe tbody tr th:only-of-type {\n        vertical-align: middle;\n    }\n\n    .dataframe tbody tr th {\n        vertical-align: top;\n    }\n\n    .dataframe thead th {\n        text-align: right;\n    }\n</style>\n<table border=\"1\" class=\"dataframe\">\n  <thead>\n    <tr style=\"text-align: right;\">\n      <th></th>\n      <th>education</th>\n      <th>sex</th>\n      <th>most_common_occupation</th>\n    </tr>\n  </thead>\n  <tbody>\n    <tr>\n      <th>0</th>\n      <td>10th</td>\n      <td>Female</td>\n      <td>Other-service</td>\n    </tr>\n    <tr>\n      <th>1</th>\n      <td>10th</td>\n      <td>Male</td>\n      <td>Craft-repair</td>\n    </tr>\n    <tr>\n      <th>2</th>\n      <td>11th</td>\n      <td>Female</td>\n      <td>Other-service</td>\n    </tr>\n    <tr>\n      <th>3</th>\n      <td>11th</td>\n      <td>Male</td>\n      <td>Craft-repair</td>\n    </tr>\n    <tr>\n      <th>4</th>\n      <td>12th</td>\n      <td>Female</td>\n      <td>Other-service</td>\n    </tr>\n    <tr>\n      <th>5</th>\n      <td>12th</td>\n      <td>Male</td>\n      <td>Craft-repair</td>\n    </tr>\n    <tr>\n      <th>6</th>\n      <td>1st-4th</td>\n      <td>Female</td>\n      <td>Other-service</td>\n    </tr>\n    <tr>\n      <th>7</th>\n      <td>1st-4th</td>\n      <td>Male</td>\n      <td>Craft-repair</td>\n    </tr>\n    <tr>\n      <th>8</th>\n      <td>5th-6th</td>\n      <td>Female</td>\n      <td>Machine-op-inspct</td>\n    </tr>\n    <tr>\n      <th>9</th>\n      <td>5th-6th</td>\n      <td>Male</td>\n      <td>Other-service</td>\n    </tr>\n    <tr>\n      <th>10</th>\n      <td>7th-8th</td>\n      <td>Female</td>\n      <td>Other-service</td>\n    </tr>\n    <tr>\n      <th>11</th>\n      <td>7th-8th</td>\n      <td>Male</td>\n      <td>Craft-repair</td>\n    </tr>\n    <tr>\n      <th>12</th>\n      <td>9th</td>\n      <td>Female</td>\n      <td>Other-service</td>\n    </tr>\n    <tr>\n      <th>13</th>\n      <td>9th</td>\n      <td>Male</td>\n      <td>Craft-repair</td>\n    </tr>\n    <tr>\n      <th>14</th>\n      <td>Assoc-acdm</td>\n      <td>Female</td>\n      <td>Adm-clerical</td>\n    </tr>\n    <tr>\n      <th>15</th>\n      <td>Assoc-acdm</td>\n      <td>Male</td>\n      <td>Craft-repair</td>\n    </tr>\n    <tr>\n      <th>16</th>\n      <td>Assoc-voc</td>\n      <td>Female</td>\n      <td>Adm-clerical</td>\n    </tr>\n    <tr>\n      <th>17</th>\n      <td>Assoc-voc</td>\n      <td>Male</td>\n      <td>Craft-repair</td>\n    </tr>\n    <tr>\n      <th>18</th>\n      <td>Bachelors</td>\n      <td>Female</td>\n      <td>Prof-specialty</td>\n    </tr>\n    <tr>\n      <th>19</th>\n      <td>Bachelors</td>\n      <td>Male</td>\n      <td>Exec-managerial</td>\n    </tr>\n    <tr>\n      <th>20</th>\n      <td>Doctorate</td>\n      <td>Female</td>\n      <td>Prof-specialty</td>\n    </tr>\n    <tr>\n      <th>21</th>\n      <td>Doctorate</td>\n      <td>Male</td>\n      <td>Prof-specialty</td>\n    </tr>\n    <tr>\n      <th>22</th>\n      <td>HS-grad</td>\n      <td>Female</td>\n      <td>Adm-clerical</td>\n    </tr>\n    <tr>\n      <th>23</th>\n      <td>HS-grad</td>\n      <td>Male</td>\n      <td>Craft-repair</td>\n    </tr>\n    <tr>\n      <th>24</th>\n      <td>Masters</td>\n      <td>Female</td>\n      <td>Prof-specialty</td>\n    </tr>\n    <tr>\n      <th>25</th>\n      <td>Masters</td>\n      <td>Male</td>\n      <td>Prof-specialty</td>\n    </tr>\n    <tr>\n      <th>26</th>\n      <td>Preschool</td>\n      <td>Female</td>\n      <td>Other-service</td>\n    </tr>\n    <tr>\n      <th>27</th>\n      <td>Preschool</td>\n      <td>Male</td>\n      <td>Farming-fishing</td>\n    </tr>\n    <tr>\n      <th>28</th>\n      <td>Prof-school</td>\n      <td>Female</td>\n      <td>Prof-specialty</td>\n    </tr>\n    <tr>\n      <th>29</th>\n      <td>Prof-school</td>\n      <td>Male</td>\n      <td>Prof-specialty</td>\n    </tr>\n    <tr>\n      <th>30</th>\n      <td>Some-college</td>\n      <td>Female</td>\n      <td>Adm-clerical</td>\n    </tr>\n    <tr>\n      <th>31</th>\n      <td>Some-college</td>\n      <td>Male</td>\n      <td>Craft-repair</td>\n    </tr>\n  </tbody>\n</table>\n</div>"
     },
     "execution_count": 15,
     "metadata": {},
     "output_type": "execute_result"
    }
   ],
   "source": [
    "# Bonus task.\n",
    "# find the most common profession for each level of education and each sex. This could give us some interesting insights into how education level\n",
    "# and sex might influence profession.\n",
    "\n",
    "grouped = data.groupby([\"education\", \"sex\", \"occupation\"]).size()\n",
    "max_occurrences = grouped.groupby([\"education\", \"sex\"]).idxmax()\n",
    "max_occurrences_df = max_occurrences.apply(lambda x: x[2]).reset_index()\n",
    "max_occurrences_df.columns = [\"education\", \"sex\", \"most_common_occupation\"]\n",
    "\n",
    "print(\"The most common profession for each level of education and sex:\")\n",
    "max_occurrences_df"
   ],
   "metadata": {
    "collapsed": false,
    "ExecuteTime": {
     "end_time": "2023-06-19T10:41:12.460351Z",
     "start_time": "2023-06-19T10:41:12.434958Z"
    }
   }
  },
  {
   "cell_type": "code",
   "execution_count": null,
   "outputs": [],
   "source": [],
   "metadata": {
    "collapsed": false
   }
  }
 ],
 "metadata": {
  "anaconda-cloud": {},
  "kernelspec": {
   "display_name": "Python 3",
   "language": "python",
   "name": "python3"
  },
  "language_info": {
   "codemirror_mode": {
    "name": "ipython",
    "version": 3
   },
   "file_extension": ".py",
   "mimetype": "text/x-python",
   "name": "python",
   "nbconvert_exporter": "python",
   "pygments_lexer": "ipython3",
   "version": "3.6.6"
  }
 },
 "nbformat": 4,
 "nbformat_minor": 1
}
